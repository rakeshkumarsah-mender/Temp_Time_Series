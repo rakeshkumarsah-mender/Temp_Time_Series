{
  "nbformat": 4,
  "nbformat_minor": 0,
  "metadata": {
    "colab": {
      "name": "Test_colabipynb",
      "provenance": [],
      "authorship_tag": "ABX9TyPt8389xMaG4dXLhNPXl8a0",
      "include_colab_link": true
    },
    "kernelspec": {
      "name": "python3",
      "display_name": "Python 3"
    },
    "language_info": {
      "name": "python"
    }
  },
  "cells": [
    {
      "cell_type": "markdown",
      "metadata": {
        "id": "view-in-github",
        "colab_type": "text"
      },
      "source": [
        "<a href=\"https://colab.research.google.com/github/srpthemaster/Temp_Time_Series/blob/main/Test_colab.ipynb\" target=\"_parent\"><img src=\"https://colab.research.google.com/assets/colab-badge.svg\" alt=\"Open In Colab\"/></a>"
      ]
    },
    {
      "cell_type": "code",
      "metadata": {
        "colab": {
          "base_uri": "https://localhost:8080/"
        },
        "id": "-8kapVLqcfgy",
        "outputId": "3ff376a1-0dcf-4951-d33b-b923fd3be0b4"
      },
      "source": [
        "print(\"test\")"
      ],
      "execution_count": 1,
      "outputs": [
        {
          "output_type": "stream",
          "name": "stdout",
          "text": [
            "test\n"
          ]
        }
      ]
    },
    {
      "cell_type": "code",
      "metadata": {
        "id": "ii8oW1KqcpEe"
      },
      "source": [
        "import pandas pd"
      ],
      "execution_count": null,
      "outputs": []
    }
  ]
}