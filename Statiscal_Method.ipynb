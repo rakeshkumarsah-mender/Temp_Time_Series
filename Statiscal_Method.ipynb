{
  "nbformat": 4,
  "nbformat_minor": 0,
  "metadata": {
    "colab": {
      "name": "Statiscal_Method.ipynb",
      "provenance": [],
      "authorship_tag": "ABX9TyMQ3tIGDGJFDqOqDSoUh7H/",
      "include_colab_link": true
    },
    "kernelspec": {
      "name": "python3",
      "display_name": "Python 3"
    },
    "language_info": {
      "name": "python"
    }
  },
  "cells": [
    {
      "cell_type": "markdown",
      "metadata": {
        "id": "view-in-github",
        "colab_type": "text"
      },
      "source": [
        "<a href=\"https://colab.research.google.com/github/srpthemaster/Temp_Time_Series/blob/Sriram/Statiscal_Method.ipynb\" target=\"_parent\"><img src=\"https://colab.research.google.com/assets/colab-badge.svg\" alt=\"Open In Colab\"/></a>"
      ]
    },
    {
      "cell_type": "markdown",
      "metadata": {
        "id": "84ZUueJn4S10"
      },
      "source": [
        "Imporing the data from the local drive"
      ]
    },
    {
      "cell_type": "code",
      "metadata": {
        "id": "V0nVkCmC4zgM"
      },
      "source": [
        "import pandas as pd\n",
        "import numpy as np\n",
        "import matplotlib.pyplot as plt\n"
      ],
      "execution_count": 28,
      "outputs": []
    },
    {
      "cell_type": "code",
      "metadata": {
        "id": "FEAK1VBn3pbi",
        "outputId": "e971bc25-cabf-4383-8719-2559e89f2ba8",
        "colab": {
          "base_uri": "https://localhost:8080/"
        }
      },
      "source": [
        "inputDataframe = pd.read_csv(\"IOT-temp.csv\")\n",
        "print(inputDataframe)"
      ],
      "execution_count": 2,
      "outputs": [
        {
          "output_type": "stream",
          "name": "stdout",
          "text": [
            "                                        id  room_id/id  ... temp  out/in\n",
            "0      __export__.temp_log_196134_bd201015  Room Admin  ...   29      In\n",
            "1      __export__.temp_log_196131_7bca51bc  Room Admin  ...   29      In\n",
            "2      __export__.temp_log_196127_522915e3  Room Admin  ...   41     Out\n",
            "3      __export__.temp_log_196128_be0919cf  Room Admin  ...   41     Out\n",
            "4      __export__.temp_log_196126_d30b72fb  Room Admin  ...   31      In\n",
            "...                                    ...         ...  ...  ...     ...\n",
            "97601   __export__.temp_log_91076_7fbd08ca  Room Admin  ...   31      In\n",
            "97602  __export__.temp_log_147733_62c03f31  Room Admin  ...   31      In\n",
            "97603  __export__.temp_log_100386_84093a68  Room Admin  ...   31      In\n",
            "97604  __export__.temp_log_123297_4d8e690b  Room Admin  ...   31      In\n",
            "97605  __export__.temp_log_133741_32958703  Room Admin  ...   31      In\n",
            "\n",
            "[97606 rows x 5 columns]\n"
          ]
        }
      ]
    },
    {
      "cell_type": "markdown",
      "metadata": {
        "id": "YB5w00X4851C"
      },
      "source": [
        "**Understanding of data**\n",
        "Lets check the DF dimensions, size, shape, column names"
      ]
    },
    {
      "cell_type": "code",
      "metadata": {
        "id": "yAJ5V9xs85aa",
        "outputId": "cb39b274-d7de-476a-c1d2-a9e6734e00d0",
        "colab": {
          "base_uri": "https://localhost:8080/",
          "height": 258
        }
      },
      "source": [
        "print(\"Size of the Original Input Data is\", inputDataframe.size)\n",
        "print(\"Dimesions of the Original Input Data is\",inputDataframe.shape)\n",
        "print(\"Column Names are :\", inputDataframe.columns)\n",
        "inputDataframe.head()"
      ],
      "execution_count": 9,
      "outputs": [
        {
          "output_type": "stream",
          "name": "stdout",
          "text": [
            "Size of the Original Input Data is 488030\n",
            "Dimesions of the Original Input Data is (97606, 5)\n",
            "Column Names are : Index(['id', 'room_id/id', 'noted_date', 'temp', 'out/in'], dtype='object')\n"
          ]
        },
        {
          "output_type": "execute_result",
          "data": {
            "text/html": [
              "<div>\n",
              "<style scoped>\n",
              "    .dataframe tbody tr th:only-of-type {\n",
              "        vertical-align: middle;\n",
              "    }\n",
              "\n",
              "    .dataframe tbody tr th {\n",
              "        vertical-align: top;\n",
              "    }\n",
              "\n",
              "    .dataframe thead th {\n",
              "        text-align: right;\n",
              "    }\n",
              "</style>\n",
              "<table border=\"1\" class=\"dataframe\">\n",
              "  <thead>\n",
              "    <tr style=\"text-align: right;\">\n",
              "      <th></th>\n",
              "      <th>id</th>\n",
              "      <th>room_id/id</th>\n",
              "      <th>noted_date</th>\n",
              "      <th>temp</th>\n",
              "      <th>out/in</th>\n",
              "    </tr>\n",
              "  </thead>\n",
              "  <tbody>\n",
              "    <tr>\n",
              "      <th>0</th>\n",
              "      <td>__export__.temp_log_196134_bd201015</td>\n",
              "      <td>Room Admin</td>\n",
              "      <td>08-12-2018 09:30</td>\n",
              "      <td>29</td>\n",
              "      <td>In</td>\n",
              "    </tr>\n",
              "    <tr>\n",
              "      <th>1</th>\n",
              "      <td>__export__.temp_log_196131_7bca51bc</td>\n",
              "      <td>Room Admin</td>\n",
              "      <td>08-12-2018 09:30</td>\n",
              "      <td>29</td>\n",
              "      <td>In</td>\n",
              "    </tr>\n",
              "    <tr>\n",
              "      <th>2</th>\n",
              "      <td>__export__.temp_log_196127_522915e3</td>\n",
              "      <td>Room Admin</td>\n",
              "      <td>08-12-2018 09:29</td>\n",
              "      <td>41</td>\n",
              "      <td>Out</td>\n",
              "    </tr>\n",
              "    <tr>\n",
              "      <th>3</th>\n",
              "      <td>__export__.temp_log_196128_be0919cf</td>\n",
              "      <td>Room Admin</td>\n",
              "      <td>08-12-2018 09:29</td>\n",
              "      <td>41</td>\n",
              "      <td>Out</td>\n",
              "    </tr>\n",
              "    <tr>\n",
              "      <th>4</th>\n",
              "      <td>__export__.temp_log_196126_d30b72fb</td>\n",
              "      <td>Room Admin</td>\n",
              "      <td>08-12-2018 09:29</td>\n",
              "      <td>31</td>\n",
              "      <td>In</td>\n",
              "    </tr>\n",
              "  </tbody>\n",
              "</table>\n",
              "</div>"
            ],
            "text/plain": [
              "                                    id  room_id/id  ... temp  out/in\n",
              "0  __export__.temp_log_196134_bd201015  Room Admin  ...   29      In\n",
              "1  __export__.temp_log_196131_7bca51bc  Room Admin  ...   29      In\n",
              "2  __export__.temp_log_196127_522915e3  Room Admin  ...   41     Out\n",
              "3  __export__.temp_log_196128_be0919cf  Room Admin  ...   41     Out\n",
              "4  __export__.temp_log_196126_d30b72fb  Room Admin  ...   31      In\n",
              "\n",
              "[5 rows x 5 columns]"
            ]
          },
          "metadata": {},
          "execution_count": 9
        }
      ]
    },
    {
      "cell_type": "markdown",
      "metadata": {
        "id": "VC4II1Fv_kJG"
      },
      "source": [
        "***Details about the temp column***"
      ]
    },
    {
      "cell_type": "code",
      "metadata": {
        "id": "HCdqnr-P_ay5",
        "outputId": "1b858bc0-f030-418f-eb70-d1d96da37f13",
        "colab": {
          "base_uri": "https://localhost:8080/"
        }
      },
      "source": [
        "#inputDataframe['temp']\n",
        "print(\"the unique values of temp are:\",inputDataframe.temp.unique())\n",
        "roomID = inputDataframe['room_id/id']\n",
        "print(\"the unique values of room_id are:\", roomID.unique())\n",
        "#roomID"
      ],
      "execution_count": 23,
      "outputs": [
        {
          "output_type": "stream",
          "name": "stdout",
          "text": [
            "the unique values of temp are: [29 41 31 42 30 40 39 38 37 36 35 34 33 32 28 27 26 25 24 43 23 22 21 44\n",
            " 45 46 48 47 49 50 51]\n",
            "the unique values of room_id are: ['Room Admin']\n"
          ]
        }
      ]
    },
    {
      "cell_type": "markdown",
      "metadata": {
        "id": "pL3lxY6NIeQW"
      },
      "source": [
        "# **Removing the 'room_id/id' column**"
      ]
    },
    {
      "cell_type": "code",
      "metadata": {
        "id": "Xu-o8pvSIsqv",
        "outputId": "21fa98c8-a32c-4a59-9257-08a9a2ba064c",
        "colab": {
          "base_uri": "https://localhost:8080/",
          "height": 424
        }
      },
      "source": [
        "modifiedDataframe = inputDataframe.drop(['room_id/id'], axis=1)\n",
        "modifiedDataframe"
      ],
      "execution_count": 25,
      "outputs": [
        {
          "output_type": "execute_result",
          "data": {
            "text/html": [
              "<div>\n",
              "<style scoped>\n",
              "    .dataframe tbody tr th:only-of-type {\n",
              "        vertical-align: middle;\n",
              "    }\n",
              "\n",
              "    .dataframe tbody tr th {\n",
              "        vertical-align: top;\n",
              "    }\n",
              "\n",
              "    .dataframe thead th {\n",
              "        text-align: right;\n",
              "    }\n",
              "</style>\n",
              "<table border=\"1\" class=\"dataframe\">\n",
              "  <thead>\n",
              "    <tr style=\"text-align: right;\">\n",
              "      <th></th>\n",
              "      <th>id</th>\n",
              "      <th>noted_date</th>\n",
              "      <th>temp</th>\n",
              "      <th>out/in</th>\n",
              "    </tr>\n",
              "  </thead>\n",
              "  <tbody>\n",
              "    <tr>\n",
              "      <th>0</th>\n",
              "      <td>__export__.temp_log_196134_bd201015</td>\n",
              "      <td>08-12-2018 09:30</td>\n",
              "      <td>29</td>\n",
              "      <td>In</td>\n",
              "    </tr>\n",
              "    <tr>\n",
              "      <th>1</th>\n",
              "      <td>__export__.temp_log_196131_7bca51bc</td>\n",
              "      <td>08-12-2018 09:30</td>\n",
              "      <td>29</td>\n",
              "      <td>In</td>\n",
              "    </tr>\n",
              "    <tr>\n",
              "      <th>2</th>\n",
              "      <td>__export__.temp_log_196127_522915e3</td>\n",
              "      <td>08-12-2018 09:29</td>\n",
              "      <td>41</td>\n",
              "      <td>Out</td>\n",
              "    </tr>\n",
              "    <tr>\n",
              "      <th>3</th>\n",
              "      <td>__export__.temp_log_196128_be0919cf</td>\n",
              "      <td>08-12-2018 09:29</td>\n",
              "      <td>41</td>\n",
              "      <td>Out</td>\n",
              "    </tr>\n",
              "    <tr>\n",
              "      <th>4</th>\n",
              "      <td>__export__.temp_log_196126_d30b72fb</td>\n",
              "      <td>08-12-2018 09:29</td>\n",
              "      <td>31</td>\n",
              "      <td>In</td>\n",
              "    </tr>\n",
              "    <tr>\n",
              "      <th>...</th>\n",
              "      <td>...</td>\n",
              "      <td>...</td>\n",
              "      <td>...</td>\n",
              "      <td>...</td>\n",
              "    </tr>\n",
              "    <tr>\n",
              "      <th>97601</th>\n",
              "      <td>__export__.temp_log_91076_7fbd08ca</td>\n",
              "      <td>28-07-2018 07:07</td>\n",
              "      <td>31</td>\n",
              "      <td>In</td>\n",
              "    </tr>\n",
              "    <tr>\n",
              "      <th>97602</th>\n",
              "      <td>__export__.temp_log_147733_62c03f31</td>\n",
              "      <td>28-07-2018 07:07</td>\n",
              "      <td>31</td>\n",
              "      <td>In</td>\n",
              "    </tr>\n",
              "    <tr>\n",
              "      <th>97603</th>\n",
              "      <td>__export__.temp_log_100386_84093a68</td>\n",
              "      <td>28-07-2018 07:06</td>\n",
              "      <td>31</td>\n",
              "      <td>In</td>\n",
              "    </tr>\n",
              "    <tr>\n",
              "      <th>97604</th>\n",
              "      <td>__export__.temp_log_123297_4d8e690b</td>\n",
              "      <td>28-07-2018 07:06</td>\n",
              "      <td>31</td>\n",
              "      <td>In</td>\n",
              "    </tr>\n",
              "    <tr>\n",
              "      <th>97605</th>\n",
              "      <td>__export__.temp_log_133741_32958703</td>\n",
              "      <td>28-07-2018 07:06</td>\n",
              "      <td>31</td>\n",
              "      <td>In</td>\n",
              "    </tr>\n",
              "  </tbody>\n",
              "</table>\n",
              "<p>97606 rows × 4 columns</p>\n",
              "</div>"
            ],
            "text/plain": [
              "                                        id        noted_date  temp out/in\n",
              "0      __export__.temp_log_196134_bd201015  08-12-2018 09:30    29     In\n",
              "1      __export__.temp_log_196131_7bca51bc  08-12-2018 09:30    29     In\n",
              "2      __export__.temp_log_196127_522915e3  08-12-2018 09:29    41    Out\n",
              "3      __export__.temp_log_196128_be0919cf  08-12-2018 09:29    41    Out\n",
              "4      __export__.temp_log_196126_d30b72fb  08-12-2018 09:29    31     In\n",
              "...                                    ...               ...   ...    ...\n",
              "97601   __export__.temp_log_91076_7fbd08ca  28-07-2018 07:07    31     In\n",
              "97602  __export__.temp_log_147733_62c03f31  28-07-2018 07:07    31     In\n",
              "97603  __export__.temp_log_100386_84093a68  28-07-2018 07:06    31     In\n",
              "97604  __export__.temp_log_123297_4d8e690b  28-07-2018 07:06    31     In\n",
              "97605  __export__.temp_log_133741_32958703  28-07-2018 07:06    31     In\n",
              "\n",
              "[97606 rows x 4 columns]"
            ]
          },
          "metadata": {},
          "execution_count": 25
        }
      ]
    },
    {
      "cell_type": "code",
      "metadata": {
        "id": "5x_jMbMFJRXn",
        "outputId": "70a4a2af-3393-48dd-beb9-6146b5d0cc94",
        "colab": {
          "base_uri": "https://localhost:8080/",
          "height": 265
        }
      },
      "source": [
        "hist = modifiedDataframe.temp.hist(bins= 15)"
      ],
      "execution_count": 35,
      "outputs": [
        {
          "output_type": "display_data",
          "data": {
            "image/png": "[encoded data removed]",
            "text/plain": [
              "<Figure size 432x288 with 1 Axes>"
            ]
          },
          "metadata": {
            "needs_background": "light"
          }
        }
      ]
    },
    {
      "cell_type": "code",
      "metadata": {
        "id": "nERyEi_dLNux",
        "outputId": "28babf75-c9d4-4dd4-af81-304830f2f8ac",
        "colab": {
          "base_uri": "https://localhost:8080/",
          "height": 431
        }
      },
      "source": [
        "ax = modifiedDataframe.temp.plot.hist(bins=12, alpha=0.5)\n",
        "ax.bar_label(ax.containers)"
      ],
      "execution_count": 37,
      "outputs": [
        {
          "output_type": "error",
          "ename": "AttributeError",
          "evalue": "ignored",
          "traceback": [
            "\u001b[0;31m---------------------------------------------------------------------------\u001b[0m",
            "\u001b[0;31mAttributeError\u001b[0m                            Traceback (most recent call last)",
            "\u001b[0;32m<ipython-input-37-6df7fc23f20e>\u001b[0m in \u001b[0;36m<module>\u001b[0;34m()\u001b[0m\n\u001b[1;32m      1\u001b[0m \u001b[0max\u001b[0m \u001b[0;34m=\u001b[0m \u001b[0mmodifiedDataframe\u001b[0m\u001b[0;34m.\u001b[0m\u001b[0mtemp\u001b[0m\u001b[0;34m.\u001b[0m\u001b[0mplot\u001b[0m\u001b[0;34m.\u001b[0m\u001b[0mhist\u001b[0m\u001b[0;34m(\u001b[0m\u001b[0mbins\u001b[0m\u001b[0;34m=\u001b[0m\u001b[0;36m12\u001b[0m\u001b[0;34m,\u001b[0m \u001b[0malpha\u001b[0m\u001b[0;34m=\u001b[0m\u001b[0;36m0.5\u001b[0m\u001b[0;34m)\u001b[0m\u001b[0;34m\u001b[0m\u001b[0;34m\u001b[0m\u001b[0m\n\u001b[0;32m----> 2\u001b[0;31m \u001b[0max\u001b[0m\u001b[0;34m.\u001b[0m\u001b[0mbar_label\u001b[0m\u001b[0;34m(\u001b[0m\u001b[0max\u001b[0m\u001b[0;34m.\u001b[0m\u001b[0mcontainers\u001b[0m\u001b[0;34m)\u001b[0m\u001b[0;34m\u001b[0m\u001b[0;34m\u001b[0m\u001b[0m\n\u001b[0m",
            "\u001b[0;31mAttributeError\u001b[0m: 'AxesSubplot' object has no attribute 'bar_label'"
          ]
        },
        {
          "output_type": "display_data",
          "data": {
            "image/png": "[encoded data removed]",
            "text/plain": [
              "<Figure size 432x288 with 1 Axes>"
            ]
          },
          "metadata": {
            "needs_background": "light"
          }
        }
      ]
    }
  ]
}