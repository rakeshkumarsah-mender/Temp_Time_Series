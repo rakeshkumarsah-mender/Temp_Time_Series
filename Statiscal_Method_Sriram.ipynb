{
  "nbformat": 4,
  "nbformat_minor": 0,
  "metadata": {
    "colab": {
      "name": "Statiscal_Method.ipynb",
      "provenance": [],
      "authorship_tag": "ABX9TyMkXbnntP+R1IVQ6pekWhUd",
      "include_colab_link": true
    },
    "kernelspec": {
      "name": "python3",
      "display_name": "Python 3"
    },
    "language_info": {
      "name": "python"
    }
  },
  "cells": [
    {
      "cell_type": "markdown",
      "metadata": {
        "id": "view-in-github",
        "colab_type": "text"
      },
      "source": [
        "<a href=\"https://colab.research.google.com/github/srpthemaster/Temp_Time_Series/blob/main/Statiscal_Method_Sriram.ipynb\" target=\"_parent\"><img src=\"https://colab.research.google.com/assets/colab-badge.svg\" alt=\"Open In Colab\"/></a>"
      ]
    },
    {
      "cell_type": "markdown",
      "metadata": {
        "id": "84ZUueJn4S10"
      },
      "source": [
        "Imporing the data from the local drive"
      ]
    },
    {
      "cell_type": "code",
      "metadata": {
        "id": "V0nVkCmC4zgM"
      },
      "source": [
        "import pandas as pd\n",
        "import numpy as np\n",
        "import matplotlib.pyplot as plt\n"
      ],
      "execution_count": 27,
      "outputs": []
    },
    {
      "cell_type": "code",
      "metadata": {
        "id": "dlOc0jAx1fl-",
        "colab": {
          "base_uri": "https://localhost:8080/"
        },
        "outputId": "f394580e-a13c-41e6-90f8-6b42b3cef3b0"
      },
      "source": [
        "! git clone https://github.com/srpthemaster/Temp_Time_Series.git"
      ],
      "execution_count": 2,
      "outputs": [
        {
          "output_type": "stream",
          "name": "stdout",
          "text": [
            "fatal: destination path 'Temp_Time_Series' already exists and is not an empty directory.\n"
          ]
        }
      ]
    },
    {
      "cell_type": "code",
      "metadata": {
        "id": "z0maRDk81mzY",
        "colab": {
          "base_uri": "https://localhost:8080/"
        },
        "outputId": "58279db8-8341-4e16-e49c-1202a17e189c"
      },
      "source": [
        "# from google.colab import files\n",
        "# uploaded = files.upload()\n",
        "#!pip list -v\n",
        "!pip install matplotlib==3.4.3"
      ],
      "execution_count": 3,
      "outputs": [
        {
          "output_type": "stream",
          "name": "stdout",
          "text": [
            "Requirement already satisfied: matplotlib==3.4.3 in /usr/local/lib/python3.7/dist-packages (3.4.3)\n",
            "Requirement already satisfied: pyparsing>=2.2.1 in /usr/local/lib/python3.7/dist-packages (from matplotlib==3.4.3) (2.4.7)\n",
            "Requirement already satisfied: numpy>=1.16 in /usr/local/lib/python3.7/dist-packages (from matplotlib==3.4.3) (1.19.5)\n",
            "Requirement already satisfied: kiwisolver>=1.0.1 in /usr/local/lib/python3.7/dist-packages (from matplotlib==3.4.3) (1.3.2)\n",
            "Requirement already satisfied: pillow>=6.2.0 in /usr/local/lib/python3.7/dist-packages (from matplotlib==3.4.3) (7.1.2)\n",
            "Requirement already satisfied: python-dateutil>=2.7 in /usr/local/lib/python3.7/dist-packages (from matplotlib==3.4.3) (2.8.2)\n",
            "Requirement already satisfied: cycler>=0.10 in /usr/local/lib/python3.7/dist-packages (from matplotlib==3.4.3) (0.10.0)\n",
            "Requirement already satisfied: six in /usr/local/lib/python3.7/dist-packages (from cycler>=0.10->matplotlib==3.4.3) (1.15.0)\n"
          ]
        }
      ]
    },
    {
      "cell_type": "code",
      "metadata": {
        "id": "AaqoawHm5rpm"
      },
      "source": [
        "!pip list -v"
      ],
      "execution_count": null,
      "outputs": []
    },
    {
      "cell_type": "code",
      "metadata": {
        "id": "FEAK1VBn3pbi",
        "colab": {
          "base_uri": "https://localhost:8080/"
        },
        "outputId": "506e050b-0f51-4d3c-a4a9-bc438a66abc7"
      },
      "source": [
        "inputDataframe = pd.read_csv(\"/content/Temp_Time_Series/IOT-temp.csv\")\n",
        "print(inputDataframe)"
      ],
      "execution_count": 7,
      "outputs": [
        {
          "output_type": "stream",
          "name": "stdout",
          "text": [
            "                                        id  room_id/id  ... temp  out/in\n",
            "0      __export__.temp_log_196134_bd201015  Room Admin  ...   29      In\n",
            "1      __export__.temp_log_196131_7bca51bc  Room Admin  ...   29      In\n",
            "2      __export__.temp_log_196127_522915e3  Room Admin  ...   41     Out\n",
            "3      __export__.temp_log_196128_be0919cf  Room Admin  ...   41     Out\n",
            "4      __export__.temp_log_196126_d30b72fb  Room Admin  ...   31      In\n",
            "...                                    ...         ...  ...  ...     ...\n",
            "97601   __export__.temp_log_91076_7fbd08ca  Room Admin  ...   31      In\n",
            "97602  __export__.temp_log_147733_62c03f31  Room Admin  ...   31      In\n",
            "97603  __export__.temp_log_100386_84093a68  Room Admin  ...   31      In\n",
            "97604  __export__.temp_log_123297_4d8e690b  Room Admin  ...   31      In\n",
            "97605  __export__.temp_log_133741_32958703  Room Admin  ...   31      In\n",
            "\n",
            "[97606 rows x 5 columns]\n"
          ]
        }
      ]
    },
    {
      "cell_type": "markdown",
      "metadata": {
        "id": "YB5w00X4851C"
      },
      "source": [
        "**Understanding of data**\n",
        "Lets check the DF dimensions, size, shape, column names"
      ]
    },
    {
      "cell_type": "code",
      "metadata": {
        "id": "yAJ5V9xs85aa",
        "colab": {
          "base_uri": "https://localhost:8080/",
          "height": 258
        },
        "outputId": "307f6d30-8ba3-4d65-ad0c-14087d304df4"
      },
      "source": [
        "print(\"Size of the Original Input Data is\", inputDataframe.size)\n",
        "print(\"Dimesions of the Original Input Data is\",inputDataframe.shape)\n",
        "print(\"Column Names are :\", inputDataframe.columns)\n",
        "inputDataframe.head()"
      ],
      "execution_count": 8,
      "outputs": [
        {
          "output_type": "stream",
          "name": "stdout",
          "text": [
            "Size of the Original Input Data is 488030\n",
            "Dimesions of the Original Input Data is (97606, 5)\n",
            "Column Names are : Index(['id', 'room_id/id', 'noted_date', 'temp', 'out/in'], dtype='object')\n"
          ]
        },
        {
          "output_type": "execute_result",
          "data": {
            "text/html": [
              "<div>\n",
              "<style scoped>\n",
              "    .dataframe tbody tr th:only-of-type {\n",
              "        vertical-align: middle;\n",
              "    }\n",
              "\n",
              "    .dataframe tbody tr th {\n",
              "        vertical-align: top;\n",
              "    }\n",
              "\n",
              "    .dataframe thead th {\n",
              "        text-align: right;\n",
              "    }\n",
              "</style>\n",
              "<table border=\"1\" class=\"dataframe\">\n",
              "  <thead>\n",
              "    <tr style=\"text-align: right;\">\n",
              "      <th></th>\n",
              "      <th>id</th>\n",
              "      <th>room_id/id</th>\n",
              "      <th>noted_date</th>\n",
              "      <th>temp</th>\n",
              "      <th>out/in</th>\n",
              "    </tr>\n",
              "  </thead>\n",
              "  <tbody>\n",
              "    <tr>\n",
              "      <th>0</th>\n",
              "      <td>__export__.temp_log_196134_bd201015</td>\n",
              "      <td>Room Admin</td>\n",
              "      <td>08-12-2018 09:30</td>\n",
              "      <td>29</td>\n",
              "      <td>In</td>\n",
              "    </tr>\n",
              "    <tr>\n",
              "      <th>1</th>\n",
              "      <td>__export__.temp_log_196131_7bca51bc</td>\n",
              "      <td>Room Admin</td>\n",
              "      <td>08-12-2018 09:30</td>\n",
              "      <td>29</td>\n",
              "      <td>In</td>\n",
              "    </tr>\n",
              "    <tr>\n",
              "      <th>2</th>\n",
              "      <td>__export__.temp_log_196127_522915e3</td>\n",
              "      <td>Room Admin</td>\n",
              "      <td>08-12-2018 09:29</td>\n",
              "      <td>41</td>\n",
              "      <td>Out</td>\n",
              "    </tr>\n",
              "    <tr>\n",
              "      <th>3</th>\n",
              "      <td>__export__.temp_log_196128_be0919cf</td>\n",
              "      <td>Room Admin</td>\n",
              "      <td>08-12-2018 09:29</td>\n",
              "      <td>41</td>\n",
              "      <td>Out</td>\n",
              "    </tr>\n",
              "    <tr>\n",
              "      <th>4</th>\n",
              "      <td>__export__.temp_log_196126_d30b72fb</td>\n",
              "      <td>Room Admin</td>\n",
              "      <td>08-12-2018 09:29</td>\n",
              "      <td>31</td>\n",
              "      <td>In</td>\n",
              "    </tr>\n",
              "  </tbody>\n",
              "</table>\n",
              "</div>"
            ],
            "text/plain": [
              "                                    id  room_id/id  ... temp  out/in\n",
              "0  __export__.temp_log_196134_bd201015  Room Admin  ...   29      In\n",
              "1  __export__.temp_log_196131_7bca51bc  Room Admin  ...   29      In\n",
              "2  __export__.temp_log_196127_522915e3  Room Admin  ...   41     Out\n",
              "3  __export__.temp_log_196128_be0919cf  Room Admin  ...   41     Out\n",
              "4  __export__.temp_log_196126_d30b72fb  Room Admin  ...   31      In\n",
              "\n",
              "[5 rows x 5 columns]"
            ]
          },
          "metadata": {},
          "execution_count": 8
        }
      ]
    },
    {
      "cell_type": "markdown",
      "metadata": {
        "id": "VC4II1Fv_kJG"
      },
      "source": [
        "***Details about the temp column***"
      ]
    },
    {
      "cell_type": "code",
      "metadata": {
        "id": "HCdqnr-P_ay5",
        "colab": {
          "base_uri": "https://localhost:8080/"
        },
        "outputId": "b315ab7e-5e4f-42b9-fd57-f1f1a91bfa10"
      },
      "source": [
        "#inputDataframe['temp']\n",
        "print(\"the unique values of temp are:\",inputDataframe.temp.unique())\n",
        "roomID = inputDataframe['room_id/id']\n",
        "print(\"the unique values of room_id are:\", roomID.unique())\n",
        "#roomID has only one"
      ],
      "execution_count": 9,
      "outputs": [
        {
          "output_type": "stream",
          "name": "stdout",
          "text": [
            "the unique values of temp are: [29 41 31 42 30 40 39 38 37 36 35 34 33 32 28 27 26 25 24 43 23 22 21 44\n",
            " 45 46 48 47 49 50 51]\n",
            "the unique values of room_id are: ['Room Admin']\n"
          ]
        }
      ]
    },
    {
      "cell_type": "markdown",
      "metadata": {
        "id": "pL3lxY6NIeQW"
      },
      "source": [
        "### **Removing the 'room_id/id' column**\n",
        "\n",
        "---\n",
        "\n",
        "\n",
        "room_id has only one value i.e. Room Admin. Hence it is not adding any value. So we are deleting the entire column"
      ]
    },
    {
      "cell_type": "code",
      "metadata": {
        "id": "Xu-o8pvSIsqv",
        "colab": {
          "base_uri": "https://localhost:8080/",
          "height": 424
        },
        "outputId": "a85ec42b-857e-46ed-cc0e-c0f3e8f4961e"
      },
      "source": [
        "modifiedDataframe = inputDataframe.drop(['room_id/id'], axis=1)\n",
        "modifiedDataframe"
      ],
      "execution_count": 10,
      "outputs": [
        {
          "output_type": "execute_result",
          "data": {
            "text/html": [
              "<div>\n",
              "<style scoped>\n",
              "    .dataframe tbody tr th:only-of-type {\n",
              "        vertical-align: middle;\n",
              "    }\n",
              "\n",
              "    .dataframe tbody tr th {\n",
              "        vertical-align: top;\n",
              "    }\n",
              "\n",
              "    .dataframe thead th {\n",
              "        text-align: right;\n",
              "    }\n",
              "</style>\n",
              "<table border=\"1\" class=\"dataframe\">\n",
              "  <thead>\n",
              "    <tr style=\"text-align: right;\">\n",
              "      <th></th>\n",
              "      <th>id</th>\n",
              "      <th>noted_date</th>\n",
              "      <th>temp</th>\n",
              "      <th>out/in</th>\n",
              "    </tr>\n",
              "  </thead>\n",
              "  <tbody>\n",
              "    <tr>\n",
              "      <th>0</th>\n",
              "      <td>__export__.temp_log_196134_bd201015</td>\n",
              "      <td>08-12-2018 09:30</td>\n",
              "      <td>29</td>\n",
              "      <td>In</td>\n",
              "    </tr>\n",
              "    <tr>\n",
              "      <th>1</th>\n",
              "      <td>__export__.temp_log_196131_7bca51bc</td>\n",
              "      <td>08-12-2018 09:30</td>\n",
              "      <td>29</td>\n",
              "      <td>In</td>\n",
              "    </tr>\n",
              "    <tr>\n",
              "      <th>2</th>\n",
              "      <td>__export__.temp_log_196127_522915e3</td>\n",
              "      <td>08-12-2018 09:29</td>\n",
              "      <td>41</td>\n",
              "      <td>Out</td>\n",
              "    </tr>\n",
              "    <tr>\n",
              "      <th>3</th>\n",
              "      <td>__export__.temp_log_196128_be0919cf</td>\n",
              "      <td>08-12-2018 09:29</td>\n",
              "      <td>41</td>\n",
              "      <td>Out</td>\n",
              "    </tr>\n",
              "    <tr>\n",
              "      <th>4</th>\n",
              "      <td>__export__.temp_log_196126_d30b72fb</td>\n",
              "      <td>08-12-2018 09:29</td>\n",
              "      <td>31</td>\n",
              "      <td>In</td>\n",
              "    </tr>\n",
              "    <tr>\n",
              "      <th>...</th>\n",
              "      <td>...</td>\n",
              "      <td>...</td>\n",
              "      <td>...</td>\n",
              "      <td>...</td>\n",
              "    </tr>\n",
              "    <tr>\n",
              "      <th>97601</th>\n",
              "      <td>__export__.temp_log_91076_7fbd08ca</td>\n",
              "      <td>28-07-2018 07:07</td>\n",
              "      <td>31</td>\n",
              "      <td>In</td>\n",
              "    </tr>\n",
              "    <tr>\n",
              "      <th>97602</th>\n",
              "      <td>__export__.temp_log_147733_62c03f31</td>\n",
              "      <td>28-07-2018 07:07</td>\n",
              "      <td>31</td>\n",
              "      <td>In</td>\n",
              "    </tr>\n",
              "    <tr>\n",
              "      <th>97603</th>\n",
              "      <td>__export__.temp_log_100386_84093a68</td>\n",
              "      <td>28-07-2018 07:06</td>\n",
              "      <td>31</td>\n",
              "      <td>In</td>\n",
              "    </tr>\n",
              "    <tr>\n",
              "      <th>97604</th>\n",
              "      <td>__export__.temp_log_123297_4d8e690b</td>\n",
              "      <td>28-07-2018 07:06</td>\n",
              "      <td>31</td>\n",
              "      <td>In</td>\n",
              "    </tr>\n",
              "    <tr>\n",
              "      <th>97605</th>\n",
              "      <td>__export__.temp_log_133741_32958703</td>\n",
              "      <td>28-07-2018 07:06</td>\n",
              "      <td>31</td>\n",
              "      <td>In</td>\n",
              "    </tr>\n",
              "  </tbody>\n",
              "</table>\n",
              "<p>97606 rows × 4 columns</p>\n",
              "</div>"
            ],
            "text/plain": [
              "                                        id        noted_date  temp out/in\n",
              "0      __export__.temp_log_196134_bd201015  08-12-2018 09:30    29     In\n",
              "1      __export__.temp_log_196131_7bca51bc  08-12-2018 09:30    29     In\n",
              "2      __export__.temp_log_196127_522915e3  08-12-2018 09:29    41    Out\n",
              "3      __export__.temp_log_196128_be0919cf  08-12-2018 09:29    41    Out\n",
              "4      __export__.temp_log_196126_d30b72fb  08-12-2018 09:29    31     In\n",
              "...                                    ...               ...   ...    ...\n",
              "97601   __export__.temp_log_91076_7fbd08ca  28-07-2018 07:07    31     In\n",
              "97602  __export__.temp_log_147733_62c03f31  28-07-2018 07:07    31     In\n",
              "97603  __export__.temp_log_100386_84093a68  28-07-2018 07:06    31     In\n",
              "97604  __export__.temp_log_123297_4d8e690b  28-07-2018 07:06    31     In\n",
              "97605  __export__.temp_log_133741_32958703  28-07-2018 07:06    31     In\n",
              "\n",
              "[97606 rows x 4 columns]"
            ]
          },
          "metadata": {},
          "execution_count": 10
        }
      ]
    },
    {
      "cell_type": "code",
      "metadata": {
        "id": "5x_jMbMFJRXn",
        "colab": {
          "base_uri": "https://localhost:8080/",
          "height": 265
        },
        "outputId": "70a4a2af-3393-48dd-beb9-6146b5d0cc94"
      },
      "source": [
        "hist = modifiedDataframe.temp.hist(bins= 15)"
      ],
      "execution_count": null,
      "outputs": [
        {
          "output_type": "display_data",
          "data": {
            "image/png": "[encoded data removed]",
            "text/plain": [
              "<Figure size 432x288 with 1 Axes>"
            ]
          },
          "metadata": {
            "needs_background": "light"
          }
        }
      ]
    },
    {
      "cell_type": "markdown",
      "metadata": {
        "id": "O5qEWY1G7KcK"
      },
      "source": [
        "In order to display the bar graph count, we need to use the latest version of Matplotlib i.e. ver=3.4.3"
      ]
    },
    {
      "cell_type": "code",
      "metadata": {
        "id": "nERyEi_dLNux",
        "colab": {
          "base_uri": "https://localhost:8080/",
          "height": 439
        },
        "outputId": "7d6b4186-04e2-4270-c5aa-6d623da6726a"
      },
      "source": [
        "ax = modifiedDataframe.temp.plot.hist(bins=10, alpha=0.5 ,rwidth = 0.5, color = 'green')\n",
        "#ax = modifiedDataframe.temp.plot.barh()\n",
        "\n",
        "ax.bar_label(ax.containers[0])"
      ],
      "execution_count": 26,
      "outputs": [
        {
          "output_type": "execute_result",
          "data": {
            "text/plain": [
              "[Text(0, 0, '26'),\n",
              " Text(0, 0, '989'),\n",
              " Text(0, 0, '21384'),\n",
              " Text(0, 0, '19258'),\n",
              " Text(0, 0, '7632'),\n",
              " Text(0, 0, '13555'),\n",
              " Text(0, 0, '22355'),\n",
              " Text(0, 0, '7225'),\n",
              " Text(0, 0, '3753'),\n",
              " Text(0, 0, '1429')]"
            ]
          },
          "metadata": {},
          "execution_count": 26
        },
        {
          "output_type": "display_data",
          "data": {
            "image/png": "[encoded data removed]",
            "text/plain": [
              "<Figure size 432x288 with 1 Axes>"
            ]
          },
          "metadata": {
            "needs_background": "light"
          }
        }
      ]
    },
    {
      "cell_type": "code",
      "metadata": {
        "colab": {
          "base_uri": "https://localhost:8080/",
          "height": 291
        },
        "id": "j6nHwmix7hIy",
        "outputId": "792e5f00-5089-499a-b569-1c03457b509f"
      },
      "source": [
        "outIn = modifiedDataframe['out/in'].value_counts().plot(kind= 'bar', color = 'pink')\n",
        "outIn.bar_label(outIn.containers[0])"
      ],
      "execution_count": 32,
      "outputs": [
        {
          "output_type": "execute_result",
          "data": {
            "text/plain": [
              "[Text(0, 0, '77261'), Text(0, 0, '20345')]"
            ]
          },
          "metadata": {},
          "execution_count": 32
        },
        {
          "output_type": "display_data",
          "data": {
            "image/png": "[encoded data removed]",
            "text/plain": [
              "<Figure size 432x288 with 1 Axes>"
            ]
          },
          "metadata": {
            "needs_background": "light"
          }
        }
      ]
    },
    {
      "cell_type": "code",
      "metadata": {
        "id": "DOg-7Rne8ZQK"
      },
      "source": [
        "# tempDistribution = modifiedDataframe['temp'].value_counts().plot(kind= 'bar')\n",
        "# tempDistribution.bar_label(tempDistribution.containers[0])\n"
      ],
      "execution_count": null,
      "outputs": []
    }
  ]
}